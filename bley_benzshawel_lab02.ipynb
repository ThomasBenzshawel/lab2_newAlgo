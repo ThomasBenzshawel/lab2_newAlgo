{
 "cells": [
  {
   "cell_type": "markdown",
   "id": "9443422b",
   "metadata": {},
   "source": [
    "# Iterative Algorithm Design\n",
    "\n",
    "### Sabryn Bley & Thomas Benzshawel\n",
    "### CSC 3310 Lab 2\n",
    "### Fall 2023"
   ]
  },
  {
   "cell_type": "markdown",
   "id": "e3fcb23c",
   "metadata": {},
   "source": [
    "### Introduction:\n",
    "The task of checking if a point is located inside a 2D polygon is important in various real-world fields like computer graphics and geographic information systems. However, it is inefficient to do by hand so an algorithm is needed. In this notebook, we will define our algorithm for determining if a point is inside a polygon. Additionally, when implementing these algorithms in real-world applications, it is important to understand how efficient they are on different datasets. To explore the limitations of the algorithm, this notebook explores the run time for each algorithm on different sized polygons. From this we can create a runtime analysis and identify strengths and limits.\n",
    "\n",
    "This notebook includes a detailed breakdown of our algorithm; methods for creating polygons, determining if a point is in a polygon, and benchmarking; and runtime analyses. This notebook explores how the algorithm run time changes as the size of the polygon increases. From these tests, we can deduce if the algorithm is practical with specific datasets. To complete these tasks, the notebook uses the functionality of time, random, and TODO libraries."
   ]
  },
  {
   "cell_type": "markdown",
   "id": "8f6cca25",
   "metadata": {},
   "source": [
    "### Set-Up:"
   ]
  },
  {
   "cell_type": "markdown",
   "source": [
    "The following cell imports the required libraries needed to complete the operations in this notebook. The cell imports the time library, the random library, and TODO. The majority of these libraries will be used to benchmark the algorithm. Additionally, they will be used to develop the polygons, algorithms, generate test cases, and create visualizations to create comprehensive analyses from the experimental results.\n"
   ],
   "metadata": {
    "collapsed": false
   },
   "id": "ff55c111a69468f2"
  },
  {
   "cell_type": "code",
   "execution_count": 1,
   "outputs": [],
   "source": [
    "import random\n",
    "import time\n",
    "import matplotlib.pyplot as plt"
   ],
   "metadata": {
    "collapsed": false,
    "ExecuteTime": {
     "end_time": "2023-10-04T02:34:22.444826600Z",
     "start_time": "2023-10-04T02:34:21.835351400Z"
    }
   },
   "id": "ad41dd8067a9b583"
  },
  {
   "cell_type": "markdown",
   "source": [
    "### The \"Decision Rule\":\n",
    "\n",
    "1. A paragraph describing a “decision rule” that can be applied to solve to the computational\n",
    "problem. Provide at least 2 illustrations (test cases) that demonstrate how the rule is applied."
   ],
   "metadata": {
    "collapsed": false
   },
   "id": "120befbf8fa5fa78"
  },
  {
   "cell_type": "markdown",
   "source": [
    "### Pseudocode:\n",
    "2. High-level pseudocode for an algorithm that uses that rule to solve the computational problem\n",
    "for any input\n",
    "\n",
    "```\n",
    "def insidePolly(lst: list, master_point: tuple):\n",
    "\tfor point1, point2 in the list:\n",
    "\t\tif master_point.x is inbetween point1.x and point2.x and masterpoint.y < point1.y and point2.y:\n",
    "\t\tintersection_y ++\n",
    "\t\telse if master_point.x is inbetween point1.x and point2.x and masterpoint.y < point1.y or point2.y:\n",
    "\t\tintersection_x ++\n",
    "\treturn true if intersection_y > 0 and intersection y % 2 != 0\n",
    "```\n"
   ],
   "metadata": {
    "collapsed": false
   },
   "id": "64c95e3c"
  },
  {
   "cell_type": "markdown",
   "source": [
    "### Justification:\n",
    "3. Provide an explanation and justification for why your algorithm is correct (1-3 paragraphs)"
   ],
   "metadata": {
    "collapsed": false
   },
   "id": "435e2acbc85b6605"
  },
  {
   "cell_type": "markdown",
   "source": [
    "### Worst-Case Analysis:\n",
    "4. Perform an analysis of the worst-case run time using asymptotic notation."
   ],
   "metadata": {
    "collapsed": false
   },
   "id": "553272199aaea3fe"
  },
  {
   "cell_type": "markdown",
   "id": "d915ae1c",
   "metadata": {},
   "source": [
    "### The Code:\n",
    "7. Attach all of your source code and test cases in an appendix"
   ]
  },
  {
   "cell_type": "markdown",
   "source": [
    "**Function Declarations:**"
   ],
   "metadata": {
    "collapsed": false
   },
   "id": "6ea5e2b7356d2ba0"
  },
  {
   "cell_type": "markdown",
   "source": [
    "The following cell defines a helper function \"is_problematic\". This function accepts three points (at a time) that make up the polygon. This function calculates the cross product for the vectors the points make up and check if they are collinear. It also checks if the points are clockwise. If either of these are true, the points are problematic and violate a simple, closed polygon. If the points are valid (false), is returned."
   ],
   "metadata": {
    "collapsed": false
   },
   "id": "c6e00a2dbac37109"
  },
  {
   "cell_type": "code",
   "execution_count": 2,
   "outputs": [],
   "source": [
    "def is_problematic(p1, p2, p3):\n",
    "    '''\n",
    "    This function checks whether three points violate making a simple, closed polygon.\n",
    "    If the points lie on the same line using vector cross product or if they are \n",
    "    clockwise, the points violate the simple, closed polygon. If the points help\n",
    "    make a simple, closed polygon are returned.\n",
    "    \n",
    "    :param p1: The (x, y) coordinates representing the first point.\n",
    "    :param p2: The (x, y) coordinates representing the middle point.\n",
    "    :param p3: The (x, y) coordinates representing the last point.\n",
    "    :return invalid: True if the points violate being a simple, closed polygon. False otherwise. \n",
    "    '''\n",
    "    # CALCULATE THE CROSS PRODUCT \n",
    "    # (a, b) = v1 & (c, d) = v2\n",
    "    cp1 = (p2[1] - p1[1]) * (p3[0] - p2[0]) # a * d\n",
    "    cp2 = (p3[1] - p2[1]) * (p2[0] - p1[0]) # b * c\n",
    "    \n",
    "    \n",
    "    # COLLINEAR IF DIFFERENCE IS 0\n",
    "    invalid = cp1 == cp2\n",
    "\n",
    "    # CHECK IF POINTS ARE CLOCKWISE\n",
    "    if not invalid: # if points are still \"valid\" (do not want to overwrite cp)\n",
    "        invalid = (p2[0] - p1[0]) * (p3[1] - p1[1]) - (p2[1] - p1[1]) * (p3[0] - p1[0]) <= 0\n",
    "        \n",
    "    # RETURN IF POINTS VIOLATE A SIMPLE, CLOSED POLYGON OR NOT\n",
    "    return invalid\n",
    "    "
   ],
   "metadata": {
    "collapsed": false,
    "ExecuteTime": {
     "end_time": "2023-10-04T02:34:22.452644400Z",
     "start_time": "2023-10-04T02:34:22.445832800Z"
    }
   },
   "id": "d5f0f7b138374e0"
  },
  {
   "cell_type": "markdown",
   "source": [
    "The following cell defines a helper function \"create_random_point\". This function takes in the minimum and maximum the x and y coordinate can be and return it as a tuple."
   ],
   "metadata": {
    "collapsed": false
   },
   "id": "7882132ee648bceb"
  },
  {
   "cell_type": "code",
   "execution_count": 3,
   "outputs": [],
   "source": [
    "def create_random_point(x_min = 0, x_max = 10, y_min = 0, y_max = 10):\n",
    "    '''\n",
    "    This function creates a random point (x, y). Additionally, this method restricts \n",
    "    the point to be in the first quadrant (maxing at a value of ten).\n",
    "    \n",
    "    :param x_min: The minimum value the x-coordinate could be. Defaults to 0.\n",
    "    :param x_max: The maximum value the x-coordinate could be. Defaults to 10.\n",
    "    :param y_min: The minimum value the y-coordinate could be. Defaults to 0.\n",
    "    :param y_max: The maximum value the y-coordinate could be. Defaults to 10.\n",
    "    :return: The point\n",
    "    '''\n",
    "    x = random.randint(x_min, x_max) # create random x-coordinate\n",
    "    y = random.randint(y_min, y_max) # create random y-coordinate\n",
    "    return x, y"
   ],
   "metadata": {
    "collapsed": false,
    "ExecuteTime": {
     "end_time": "2023-10-04T02:34:22.461042900Z",
     "start_time": "2023-10-04T02:34:22.453643300Z"
    }
   },
   "id": "2473413f77109304"
  },
  {
   "cell_type": "markdown",
   "source": [
    "The following cell defines a helper function \"create_random_polygon\". This function generates random points using the \"create_random_point\" function to create a polygon. This function calls the \"is_problematic\" helper function to check that all the points make a simple, closed polygon. If the points violate the polygon, they are removed. After the removal, it assures that there are at least points (required to make a polygon). If there aren't, the entire process is repeated until a simple, closed polygon is created. Then the points are returned. It is assumed the last point connects back to the first point in the list."
   ],
   "metadata": {
    "collapsed": false
   },
   "id": "ff12144c4611f93d"
  },
  {
   "cell_type": "code",
   "execution_count": 4,
   "outputs": [],
   "source": [
    "def create_random_polygon(num_points = 5):\n",
    "    \"\"\"\n",
    "    Generate a random simple, closed polygon by generating a list of points in order.\n",
    "    This method creates a polygon with the desired amount of points. However, it restricts the polygons \n",
    "    to have at least three points. Additionally, this method restricts the polygons to have coordinates \n",
    "    in the first quadrant (maxing at a value of ten). It is assumed the last point connects back to the \n",
    "    first point in the list.\n",
    "\n",
    "    :param num_points: The number of points in the polygon\n",
    "    :return points: A list of tuples that represent (x, y) coordinates for each point in the polygon.\n",
    "    \"\"\"\n",
    "    # CREATE BOOLEAN TO TRACK IF POINTS HAVE BEEN GENERATED\n",
    "    valid = False\n",
    "    # CREATE LIST TO SAVE CREATED POINTS\n",
    "    points = []\n",
    "    \n",
    "    # CHECK THAT THE NUMBER OF POINTS CAN MAKE A POLYGON\n",
    "    if num_points < 3:\n",
    "        print(\"Number of points must be greater than three to be a polygon.\")\n",
    "        valid = True # skip point generation\n",
    "    \n",
    "    # GENERATE POINTS\n",
    "    while not valid:\n",
    "\n",
    "        # CREATE RANDOM POINTS\n",
    "        for i in range(num_points - 1): \n",
    "            points.append(create_random_point()) # save new point\n",
    "    \n",
    "        # SORT POINTS BASED OFF OF X COORDINATE\n",
    "        points.sort(key = lambda x: x[0])\n",
    "\n",
    "        # CHECK FOR PROBLEMATIC POINTS\n",
    "        i = 0\n",
    "        while i < len(points) - 2:\n",
    "            if is_problematic(points[i], points[i + 1], points[i + 2]):\n",
    "                points.pop(i + 1) # Remove the middle point\n",
    "            else:\n",
    "                i += 1 # Move to next three points\n",
    "        \n",
    "        # CHECK THERE IS MORE THAN TWO POINTS\n",
    "        if len(points) == num_points:\n",
    "            valid = True\n",
    "\n",
    "    # ADD FIRST POINT TO CREATE CLOSED POLYGON\n",
    "    points.append(points[0])\n",
    "    \n",
    "    # RETURN POINTS\n",
    "    return points"
   ],
   "metadata": {
    "collapsed": false,
    "ExecuteTime": {
     "end_time": "2023-10-04T02:34:22.486937100Z",
     "start_time": "2023-10-04T02:34:22.464041900Z"
    }
   },
   "id": "8da8d0f1b1257ecf"
  },
  {
   "cell_type": "code",
   "execution_count": 5,
   "outputs": [
    {
     "name": "stdout",
     "output_type": "stream",
     "text": [
      "[(1, 5), (2, 0), (3, 1), (5, 3), (9, 2), (1, 5)]\n"
     ]
    },
    {
     "data": {
      "text/plain": "[<matplotlib.patches.Polygon at 0x25860dcbb50>]"
     },
     "execution_count": 5,
     "metadata": {},
     "output_type": "execute_result"
    },
    {
     "data": {
      "text/plain": "<Figure size 640x480 with 1 Axes>",
      "image/png": "[encoded data removed]"
     },
     "metadata": {},
     "output_type": "display_data"
    }
   ],
   "source": [
    "# TEST\n",
    "random_polygon = create_random_polygon(5)\n",
    "print(random_polygon)\n",
    "xs, ys = zip(*random_polygon)\n",
    "plt.fill(xs, ys)"
   ],
   "metadata": {
    "collapsed": false,
    "ExecuteTime": {
     "end_time": "2023-10-04T02:34:22.633744100Z",
     "start_time": "2023-10-04T02:34:22.468937400Z"
    }
   },
   "id": "a0c1869c54b6dcd6"
  },
  {
   "cell_type": "code",
   "execution_count": 6,
   "outputs": [],
   "source": [
    "def is_inside(master_point: tuple, polygon: list):\n",
    "    \"\"\"\n",
    "    This method determines if a master point is inside or outside a polygon (a list of (x, y) coordinates).\n",
    "    It does this by implementing the TODO\n",
    "    :param master_point: The point.\n",
    "    :param polygon: The list of points that represent a simple, closed polygon. \n",
    "                    (Last point connects back to the first point.)\n",
    "    :return: True if the master point is inside the polygon. False otherwise.\n",
    "    \"\"\"\n",
    "    intersection_y = 0\n",
    "    intersection_x = 0\n",
    "\n",
    "    for point1, point2 in zip(polygon, polygon[1:]):\n",
    "        \n",
    "        # print(master_point)\n",
    "        # print(point1, \"point 1\")\n",
    "        # print(point2, \"point 2\")\n",
    "        if  point1[0] <= master_point[0] <= point2[0] or point1[0] >= master_point[0] >= point2[0]:\n",
    "            intersection_y= intersection_y + 1\n",
    "            # print(\"x in!\")\n",
    "        if point1[1] <= master_point[1] <= point2[1] or point1[1] >= master_point[1] >= point2[1]:\n",
    "            intersection_x = intersection_x + 1\n",
    "            # print(\"y in!\")\n",
    "\n",
    "    return (intersection_y > 0 and intersection_y % 2 == 0) and (intersection_x > 0 and intersection_x % 2 == 0)"
   ],
   "metadata": {
    "collapsed": false,
    "ExecuteTime": {
     "end_time": "2023-10-04T02:34:22.641744300Z",
     "start_time": "2023-10-04T02:34:22.632736400Z"
    }
   },
   "id": "2a92e65cc1f8e7e5"
  },
  {
   "cell_type": "code",
   "execution_count": 10,
   "outputs": [
    {
     "name": "stdout",
     "output_type": "stream",
     "text": [
      "[(1, 8), (1, 5), (2, 1), (10, 0), (10, 7), (1, 8)]\n",
      "(9, 4)\n",
      "True\n"
     ]
    },
    {
     "name": "stderr",
     "output_type": "stream",
     "text": [
      "C:\\Users\\benzshawelt\\AppData\\Local\\Temp\\ipykernel_516\\642844127.py:8: UserWarning: No data for colormapping provided via 'c'. Parameters 'cmap' will be ignored\n",
      "  plt.scatter(point[0], point[1], cmap=\"red\")\n"
     ]
    },
    {
     "data": {
      "text/plain": "<Figure size 640x480 with 1 Axes>",
      "image/png": "[encoded data removed]"
     },
     "metadata": {},
     "output_type": "display_data"
    }
   ],
   "source": [
    "testing_polygon = create_random_polygon(5)\n",
    "print(testing_polygon)\n",
    "\n",
    "x, y = zip(*testing_polygon)\n",
    "plt.fill(x, y)\n",
    "point = create_random_point()\n",
    "print(point)\n",
    "plt.scatter(point[0], point[1], cmap=\"red\")\n",
    "\n",
    "print(is_inside(point, testing_polygon))\n",
    "plt.show()"
   ],
   "metadata": {
    "collapsed": false,
    "ExecuteTime": {
     "end_time": "2023-10-04T02:35:11.666193600Z",
     "start_time": "2023-10-04T02:35:11.581308800Z"
    }
   },
   "id": "7fb4fe1c7159796c"
  },
  {
   "cell_type": "code",
   "execution_count": 8,
   "outputs": [],
   "source": [
    "# print(is_inside(point, [(3, 3), (5, 0), (9, 1), (10, 4), (10, 8), (3, 3)]))"
   ],
   "metadata": {
    "collapsed": false,
    "ExecuteTime": {
     "end_time": "2023-10-04T02:34:22.755935500Z",
     "start_time": "2023-10-04T02:34:22.750419300Z"
    }
   },
   "id": "7bdcbe0e2a94b9a9"
  },
  {
   "cell_type": "markdown",
   "source": [
    "### Benchmarks:\n",
    "7. A table of your test cases, the answers you expect, and the answers returned by running your\n",
    "implementation of the algorithm.\n",
    "6. A table and graph from benchmarking your implementation on problem instances of different\n",
    "sizes. The benchmarks should support your theoretically-derived run time."
   ],
   "metadata": {
    "collapsed": false
   },
   "id": "f3f138568a1daf28"
  },
  {
   "cell_type": "markdown",
   "source": [
    "### Conclusion:"
   ],
   "metadata": {
    "collapsed": false
   },
   "id": "a88c83f8f189c880"
  }
 ],
 "metadata": {
  "kernelspec": {
   "display_name": "Python 3 (ipykernel)",
   "language": "python",
   "name": "python3"
  },
  "language_info": {
   "codemirror_mode": {
    "name": "ipython",
    "version": 3
   },
   "file_extension": ".py",
   "mimetype": "text/x-python",
   "name": "python",
   "nbconvert_exporter": "python",
   "pygments_lexer": "ipython3",
   "version": "3.11.4"
  }
 },
 "nbformat": 4,
 "nbformat_minor": 5
}
