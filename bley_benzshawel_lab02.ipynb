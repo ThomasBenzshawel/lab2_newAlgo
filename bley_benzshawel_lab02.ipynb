{
 "cells": [
  {
   "cell_type": "markdown",
   "id": "9443422b",
   "metadata": {},
   "source": [
    "# Iterative Algorithm Design\n",
    "\n",
    "### Sabryn Bley & Thomas Benzshawel\n",
    "### CSC 3310 Lab 2\n",
    "### Fall 2023"
   ]
  },
  {
   "cell_type": "markdown",
   "id": "64c95e3c",
   "metadata": {},
   "source": [
    "1. A paragraph describing a “decision rule” that can be applied to solve to the computational\n",
    "problem. Provide at least 2 illustrations (test cases) that demonstrate how the rule is applied.\n",
    "2. High-level pseudocode for an algorithm that uses that rule to solve the computational problem\n",
    "for any input\n",
    "3. Provide an explanation and justification for why your algorithm is correct (1-3 paragraphs)\n",
    "4. Perform an analysis of the worst-case run time using asymptotic notation.\n",
    "5. A table of your test cases, the answers you expect, and the answers returned by running your\n",
    "implementation of the algorithm.\n",
    "6. A table and graph from benchmarking your implementation on problem instances of different\n",
    "sizes. The benchmarks should support your theoretically-derived run time.\n",
    "7. Attach all of your source code and test cases in an appendix"
   ]
  },
  {
   "cell_type": "markdown",
   "id": "e3fcb23c",
   "metadata": {},
   "source": [
    "### Introduction: TODO"
   ]
  },
  {
   "cell_type": "markdown",
   "id": "8f6cca25",
   "metadata": {},
   "source": [
    "### Set-Up:"
   ]
  },
  {
   "cell_type": "markdown",
   "id": "d915ae1c",
   "metadata": {},
   "source": [
    "### The Code:"
   ]
  }
 ],
 "metadata": {
  "kernelspec": {
   "display_name": "Python 3 (ipykernel)",
   "language": "python",
   "name": "python3"
  },
  "language_info": {
   "codemirror_mode": {
    "name": "ipython",
    "version": 3
   },
   "file_extension": ".py",
   "mimetype": "text/x-python",
   "name": "python",
   "nbconvert_exporter": "python",
   "pygments_lexer": "ipython3",
   "version": "3.11.4"
  }
 },
 "nbformat": 4,
 "nbformat_minor": 5
}
