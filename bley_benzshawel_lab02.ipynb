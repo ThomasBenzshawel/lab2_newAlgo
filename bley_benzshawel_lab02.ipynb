{
 "cells": [
  {
   "cell_type": "markdown",
   "id": "9443422b",
   "metadata": {},
   "source": [
    "# Iterative Algorithm Design\n",
    "\n",
    "### Sabryn Bley & Thomas Benzshawel\n",
    "### CSC 3310 Lab 2\n",
    "### Fall 2023"
   ]
  },
  {
   "cell_type": "markdown",
   "id": "e3fcb23c",
   "metadata": {},
   "source": [
    "## Introduction:\n",
    "The task of checking if a point is located inside a 2D polygon is important in various real-world fields like computer graphics and geographic information systems. However, it is inefficient to do by hand so an algorithm is needed. In this notebook, we will define our algorithm for determining if a point is inside a polygon. Additionally, when implementing these algorithms in real-world applications, it is important to understand how efficient they are on different datasets. To explore the limitations of the algorithm, this notebook explores the run time for each algorithm on different sized polygons. From this we can create a runtime analysis and identify strengths and limits.\n",
    "\n",
    "This notebook includes a detailed breakdown of our algorithm; methods for creating polygons, determining if a point is in a polygon, and benchmarking; and runtime analyses. This notebook explores how the algorithm run time changes as the size of the polygon increases. From these tests, we can deduce if the algorithm is practical with specific datasets. To complete these tasks, the notebook uses the functionality of time, random, and TODO libraries."
   ]
  },
  {
   "cell_type": "markdown",
   "id": "8f6cca25",
   "metadata": {},
   "source": [
    "## Set-Up:"
   ]
  },
  {
   "cell_type": "markdown",
   "id": "ff55c111a69468f2",
   "metadata": {},
   "source": [
    "The following cell imports the required libraries needed to complete the operations in this notebook. The cell imports the time library, the random library, matplotlib, scipy, numpy, and TODO. The majority of these libraries will be used to benchmark the algorithm. Additionally, they will be used to develop the polygons and points, generate test cases, and create visualizations to create comprehensive analyses from the experimental results.\n"
   ]
  },
  {
   "cell_type": "code",
   "execution_count": 3,
   "id": "ad41dd8067a9b583",
   "metadata": {
    "ExecuteTime": {
     "end_time": "2023-10-04T18:55:08.932680900Z",
     "start_time": "2023-10-04T18:55:07.632467500Z"
    }
   },
   "outputs": [],
   "source": [
    "import random\n",
    "import time\n",
    "import matplotlib.pyplot as plt\n",
    "from scipy.stats import linregress\n",
    "import numpy as np"
   ]
  },
  {
   "cell_type": "markdown",
   "id": "120befbf8fa5fa78",
   "metadata": {},
   "source": [
    "## The \"Decision Rule\":\n",
    "\n",
    "1. A paragraph describing a “decision rule” that can be applied to solve to the computational\n",
    "problem. Provide at least 2 illustrations (test cases) that demonstrate how the rule is applied."
   ]
  },
  {
   "cell_type": "markdown",
   "id": "64c95e3c",
   "metadata": {},
   "source": [
    "## Pseudocode:\n",
    "2. High-level pseudocode for an algorithm that uses that rule to solve the computational problem\n",
    "for any input\n",
    "\n",
    "```\n",
    "def insidePolly(lst: list, master_point: tuple):\n",
    "\tfor point1, point2 in the list:\n",
    "\t\tif master_point.x is inbetween point1.x and point2.x and masterpoint.y < point1.y and point2.y:\n",
    "\t\tintersection_y ++\n",
    "\t\telse if master_point.x is inbetween point1.x and point2.x and masterpoint.y < point1.y or point2.y:\n",
    "\t\tintersection_x ++\n",
    "\treturn true if intersection_y > 0 and intersection y % 2 != 0\n",
    "```\n"
   ]
  },
  {
   "cell_type": "markdown",
   "id": "435e2acbc85b6605",
   "metadata": {},
   "source": [
    "## Justification:\n",
    "3. Provide an explanation and justification for why your algorithm is correct (1-3 paragraphs)"
   ]
  },
  {
   "cell_type": "markdown",
   "id": "553272199aaea3fe",
   "metadata": {},
   "source": [
    "## Worst-Case Analysis:\n",
    "4. Perform an analysis of the worst-case run time using asymptotic notation."
   ]
  },
  {
   "cell_type": "markdown",
   "id": "d915ae1c",
   "metadata": {},
   "source": [
    "## The Code:"
   ]
  },
  {
   "cell_type": "markdown",
   "id": "6ea5e2b7356d2ba0",
   "metadata": {},
   "source": [
    "**Function Declarations:**"
   ]
  },
  {
   "cell_type": "markdown",
   "id": "c6e00a2dbac37109",
   "metadata": {},
   "source": [
    "The following cell defines a helper function \"is_problematic\". This function accepts three points (at a time) that make up the polygon. This function calculates the cross product for the vectors the points make up and check if they are collinear. It also checks if the points are clockwise. If either of these are true, the points are problematic and violate a simple, closed polygon. If the points are valid (false), is returned."
   ]
  },
  {
   "cell_type": "code",
   "execution_count": 4,
   "id": "d5f0f7b138374e0",
   "metadata": {
    "ExecuteTime": {
     "end_time": "2023-10-04T18:55:12.882933400Z",
     "start_time": "2023-10-04T18:55:12.878528Z"
    }
   },
   "outputs": [],
   "source": [
    "def is_problematic(p1, p2, p3):\n",
    "    '''\n",
    "    This function checks whether three points violate making a simple, closed polygon.\n",
    "    If the points are clockwise, the points violate the simple, closed polygon. If the points\n",
    "    make a simple, closed polygon are returned.\n",
    "    \n",
    "    :param p1: The (x, y) coordinates representing the first point.\n",
    "    :param p2: The (x, y) coordinates representing the middle point.\n",
    "    :param p3: The (x, y) coordinates representing the last point.\n",
    "    :return invalid: True if the points violate being a simple, closed polygon. False otherwise. \n",
    "    '''\n",
    "\n",
    "    # CHECK IF POINTS ARE CLOCKWISE\n",
    "    invalid = (p2[0] - p1[0]) * (p3[1] - p1[1]) - (p2[1] - p1[1]) * (p3[0] - p1[0]) <= 0\n",
    "        \n",
    "    # RETURN IF POINTS VIOLATE A SIMPLE, CLOSED POLYGON OR NOT\n",
    "    return invalid"
   ]
  },
  {
   "cell_type": "markdown",
   "id": "7882132ee648bceb",
   "metadata": {},
   "source": [
    "The following cell defines a helper function \"create_random_point\". This function takes in the minimum and maximum the x and y coordinate can be and return it as a tuple."
   ]
  },
  {
   "cell_type": "code",
   "execution_count": 6,
   "id": "2473413f77109304",
   "metadata": {
    "ExecuteTime": {
     "end_time": "2023-10-04T18:55:15.940301600Z",
     "start_time": "2023-10-04T18:55:15.935786800Z"
    }
   },
   "outputs": [],
   "source": [
    "def create_random_point(x_min = 0, x_max = 10, y_min = 0, y_max = 10):\n",
    "    '''\n",
    "    This function creates a random point (x, y). Additionally, this method restricts \n",
    "    the point to be in the first quadrant (maxing at a value of ten).\n",
    "    \n",
    "    :param x_min: The minimum value the x-coordinate could be. Defaults to 0.\n",
    "    :param x_max: The maximum value the x-coordinate could be. Defaults to 10.\n",
    "    :param y_min: The minimum value the y-coordinate could be. Defaults to 0.\n",
    "    :param y_max: The maximum value the y-coordinate could be. Defaults to 10.\n",
    "    :return: The point\n",
    "    '''\n",
    "    x = random.randint(x_min, x_max) # create random x-coordinate\n",
    "    y = random.randint(y_min, y_max) # create random y-coordinate\n",
    "    return x, y"
   ]
  },
  {
   "cell_type": "markdown",
   "id": "ff12144c4611f93d",
   "metadata": {},
   "source": [
    "The following cell defines a helper function \"create_random_polygon\". This function generates random points using the \"create_random_point\" function to create a polygon. This function calls the \"is_problematic\" helper function to check that all the points make a simple, closed polygon. If the points violate the polygon, they are removed. After the removal, it assures that there are at least points (required to make a polygon). If there aren't, the entire process is repeated until a simple, closed polygon is created. Then the points are returned. It is assumed the last point connects back to the first point in the list."
   ]
  },
  {
   "cell_type": "code",
   "execution_count": 7,
   "id": "8da8d0f1b1257ecf",
   "metadata": {
    "ExecuteTime": {
     "end_time": "2023-10-04T18:55:17.530440400Z",
     "start_time": "2023-10-04T18:55:17.527432600Z"
    }
   },
   "outputs": [],
   "source": [
    "def create_random_polygon(num_points = 5):\n",
    "    \"\"\"\n",
    "    Generate a random simple, closed polygon by generating a list of points in order.\n",
    "    This method creates a polygon with the desired amount of points. However, it restricts the polygons \n",
    "    to have at least three points. Additionally, this method restricts the polygons to have coordinates \n",
    "    in the first quadrant (maxing at a value of ten). It is assumed the last point connects back to the \n",
    "    first point in the list.\n",
    "\n",
    "    :param num_points: The number of points in the polygon\n",
    "    :return points: A list of tuples that represent (x, y) coordinates for each point in the polygon.\n",
    "    \"\"\"\n",
    "    # CREATE BOOLEAN TO TRACK IF POINTS HAVE BEEN GENERATED\n",
    "    valid = False\n",
    "    # CREATE LIST TO SAVE CREATED POINTS\n",
    "    points = []\n",
    "    \n",
    "    # CHECK THAT THE NUMBER OF POINTS CAN MAKE A POLYGON\n",
    "    if num_points < 3:\n",
    "        print(\"Number of points must be greater than three to be a polygon.\")\n",
    "        valid = True # skip point generation\n",
    "    \n",
    "    # GENERATE POINTS\n",
    "    while not valid:\n",
    "\n",
    "        # CREATE RANDOM POINTS\n",
    "        for i in range(num_points - 1): \n",
    "            points.append(create_random_point()) # save new point\n",
    "    \n",
    "        # SORT POINTS BASED OFF OF X COORDINATE\n",
    "        points.sort(key = lambda x: x[0])\n",
    "\n",
    "        # CHECK FOR PROBLEMATIC POINTS\n",
    "        i = 0\n",
    "        while i < len(points) - 2:\n",
    "            if is_problematic(points[i], points[i + 1], points[i + 2]):\n",
    "                points.pop(i + 1) # Remove the middle point\n",
    "            else:\n",
    "                i += 1 # Move to next three points\n",
    "        \n",
    "        # CHECK THERE IS MORE THAN TWO POINTS\n",
    "        if len(points) == num_points:\n",
    "            valid = True\n",
    "        \n",
    "    # ADD FIRST POINT TO CREATE CLOSED POLYGON\n",
    "    points.append(points[0])\n",
    "    \n",
    "    # RETURN POINTS\n",
    "    return points"
   ]
  },
  {
   "cell_type": "markdown",
   "id": "1316d02c",
   "metadata": {},
   "source": [
    "The following cell defines a function is_inside(). This is the implementation of our algorithm. It takes in a list of master points and list of points that represent the polygon. The algorithm then goes through, and determines if each master point is in the polygon. TODO ADD ASSUMPTIONS"
   ]
  },
  {
   "cell_type": "code",
   "execution_count": 8,
   "id": "2a92e65cc1f8e7e5",
   "metadata": {
    "ExecuteTime": {
     "end_time": "2023-10-04T18:55:19.676387100Z",
     "start_time": "2023-10-04T18:55:19.668378500Z"
    }
   },
   "outputs": [],
   "source": [
    "def is_inside(master_points: list, polygon: list):\n",
    "    \"\"\"\n",
    "    This method goes through a list of master points and determines if each master point \n",
    "    is inside or outside a polygon (a list of (x, y) coordinates).\n",
    "    It does this by implementing the TODO\n",
    "    TODO - ADD ASSUMPTIONS\n",
    "    :param master_points: The list of points.\n",
    "    :param polygon: The list of points that represent a simple, closed polygon. \n",
    "                    (Last point connects back to the first point.)\n",
    "    :return points_inside: A list of boolean values that represent if the points were inside the polygon. \n",
    "    True if the master point is inside the polygon. False otherwise.\n",
    "    \"\"\"\n",
    "    # CREATE LIST TO STORE EACH POINTS RESULTS\n",
    "    points_inside = []\n",
    "    \n",
    "    intersection_y = 0\n",
    "    intersection_x = 0\n",
    "    for master_point in master_points:\n",
    "        for point1, point2 in zip(polygon, polygon[1:]):\n",
    "            \n",
    "            if  point1[0] <= master_point[0] <= point2[0] or point1[0] >= master_point[0] >= point2[0]:\n",
    "                intersection_y = intersection_y + 1\n",
    "                \n",
    "            if point1[1] <= master_point[1] <= point2[1] or point1[1] >= master_point[1] >= point2[1]:\n",
    "                intersection_x = intersection_x + 1\n",
    "                \n",
    "        points_inside.append((intersection_y > 0 and intersection_y % 2 == 0) and (intersection_x > 0 and intersection_x % 2 != 0))\n",
    "                \n",
    "    return points_inside"
   ]
  },
  {
   "cell_type": "markdown",
   "id": "0666e888",
   "metadata": {},
   "source": [
    "The following cell defines a helper function visualize_polygon(). This function takes in the polygon and the master points and plots them using the matplotlib library."
   ]
  },
  {
   "cell_type": "code",
   "execution_count": 9,
   "id": "5ace1824c9c439e",
   "metadata": {
    "ExecuteTime": {
     "end_time": "2023-10-04T18:55:21.804105600Z",
     "start_time": "2023-10-04T18:55:21.798595900Z"
    }
   },
   "outputs": [],
   "source": [
    "def visualize_polygon(polygon, points):\n",
    "    '''\n",
    "    This function visualizes the polygon and points using the matplotlib library.\n",
    "    \n",
    "    :param polygon: The polygon.\n",
    "    :param points: The master points.\n",
    "    '''\n",
    "    x, y = zip(*polygon)\n",
    "    plt.fill(x, y)\n",
    "\n",
    "    for point in points:\n",
    "        plt.scatter(point[0], point[1], cmap=\"red\")\n",
    "\n",
    "    plt.show()"
   ]
  },
  {
   "cell_type": "markdown",
   "id": "fc0bf436",
   "metadata": {},
   "source": [
    "The following cell defines a helper function that benchmarks the algorithm with a specified polygon and points."
   ]
  },
  {
   "cell_type": "code",
   "execution_count": 10,
   "id": "44ae2fa7358141",
   "metadata": {
    "ExecuteTime": {
     "end_time": "2023-10-04T18:55:23.711281700Z",
     "start_time": "2023-10-04T18:55:23.698663500Z"
    }
   },
   "outputs": [],
   "source": [
    "def benchmark(polygon, points):\n",
    "    '''\n",
    "    This function uses the time library to benchmark the algorithm. The function takes in\n",
    "    the polygon and the point that is being tested. It then times the algorithm and returns the time as a long.\n",
    "\n",
    "    :param polygon: The Python list of coordinates that represent the polygon being benchmarked.\n",
    "    :param points: The points that are being tested (in or out of the polygon).\n",
    "    :return elapsed: The benchmark time for the algorithm to determine if the points is in the polygon or not. \n",
    "    This time is represented as a long.\n",
    "    '''\n",
    "\n",
    "    # BENCHMARK\n",
    "    start_time = time.perf_counter()\n",
    "    is_inside(points, polygon)\n",
    "    end_time = time.perf_counter()\n",
    "\n",
    "    # CALCULATE THE TIME ELAPSED\n",
    "    elapsed = end_time - start_time\n",
    "    return elapsed"
   ]
  },
  {
   "cell_type": "markdown",
   "id": "21ffae0e",
   "metadata": {},
   "source": [
    "**Algorithm Function Testing:**"
   ]
  },
  {
   "cell_type": "markdown",
   "id": "9a964d2e",
   "metadata": {},
   "source": [
    "The following cell tests that the algorithm shows the point is outside of the polygon. The polygon and points are hardcoded for proof but were intially randomly generated. The result should show true."
   ]
  },
  {
   "cell_type": "code",
   "execution_count": 11,
   "id": "7fb4fe1c7159796c",
   "metadata": {
    "scrolled": true,
    "ExecuteTime": {
     "end_time": "2023-10-04T18:55:25.630096100Z",
     "start_time": "2023-10-04T18:55:25.501129Z"
    }
   },
   "outputs": [
    {
     "name": "stdout",
     "output_type": "stream",
     "text": [
      "Polygon:  [(1, 7), (6, 2), (8, 4), (9, 7), (9, 8), (1, 7)]\n",
      "Point:  (7, 4)\n"
     ]
    },
    {
     "name": "stderr",
     "output_type": "stream",
     "text": [
      "C:\\Users\\bleys\\AppData\\Local\\Temp\\ipykernel_25732\\3804989734.py:12: UserWarning: No data for colormapping provided via 'c'. Parameters 'cmap' will be ignored\n",
      "  plt.scatter(point[0], point[1], cmap=\"red\")\n"
     ]
    },
    {
     "data": {
      "text/plain": "<Figure size 640x480 with 1 Axes>",
      "image/png": "[encoded data removed]"
     },
     "metadata": {},
     "output_type": "display_data"
    },
    {
     "name": "stdout",
     "output_type": "stream",
     "text": [
      "Result:  [True]\n"
     ]
    }
   ],
   "source": [
    "# CREATE POLYGON\n",
    "testing_polygon = [(1, 7), (6, 2), (8, 4), (9, 7), (9, 8), (1, 7)]\n",
    "print('Polygon: ', testing_polygon)\n",
    "\n",
    "# CREATE MASTER POINT\n",
    "point = (7, 4)\n",
    "print('Point: ', point)\n",
    "\n",
    "# VISUALIZE\n",
    "visualize_polygon(testing_polygon, [point])\n",
    "\n",
    "# RUN ALGORITHM\n",
    "print('Result: ', is_inside([point], testing_polygon))"
   ]
  },
  {
   "cell_type": "markdown",
   "id": "befde606",
   "metadata": {},
   "source": [
    "The following cell tests that the algorithm shows the point is on the edge of the polygon. The polygon and points are hardcoded for proof but were intially randomly generated. The result should show false."
   ]
  },
  {
   "cell_type": "code",
   "execution_count": 12,
   "id": "b41bcf46",
   "metadata": {
    "ExecuteTime": {
     "end_time": "2023-10-04T18:55:28.292575600Z",
     "start_time": "2023-10-04T18:55:28.230061700Z"
    }
   },
   "outputs": [
    {
     "name": "stdout",
     "output_type": "stream",
     "text": [
      "Polygon:  [(0, 6), (3, 4), (8, 1), (10, 0), (10, 8), (0, 6)]\n",
      "Point:  (10, 5)\n"
     ]
    },
    {
     "name": "stderr",
     "output_type": "stream",
     "text": [
      "C:\\Users\\bleys\\AppData\\Local\\Temp\\ipykernel_25732\\3804989734.py:12: UserWarning: No data for colormapping provided via 'c'. Parameters 'cmap' will be ignored\n",
      "  plt.scatter(point[0], point[1], cmap=\"red\")\n"
     ]
    },
    {
     "data": {
      "text/plain": "<Figure size 640x480 with 1 Axes>",
      "image/png": "[encoded data removed]"
     },
     "metadata": {},
     "output_type": "display_data"
    },
    {
     "name": "stdout",
     "output_type": "stream",
     "text": [
      "Result:  [False]\n"
     ]
    }
   ],
   "source": [
    "# CREATE POLYGON\n",
    "testing_polygon = [(0, 6), (3, 4), (8, 1), (10, 0), (10, 8), (0, 6)]\n",
    "print('Polygon: ', testing_polygon)\n",
    "\n",
    "# CREATE MASTER POINT\n",
    "point = (10, 5)\n",
    "print('Point: ', point)\n",
    "\n",
    "# VISUALIZE\n",
    "visualize_polygon(testing_polygon, [point])\n",
    "\n",
    "# RUN ALGORITHM\n",
    "print('Result: ', is_inside([point], testing_polygon))"
   ]
  },
  {
   "cell_type": "markdown",
   "id": "0d614f96",
   "metadata": {},
   "source": [
    "The following cell tests that the algorithm shows the point is outside the polygon. The polygon and points are hardcoded for proof but were intially randomly generated. The result should show false."
   ]
  },
  {
   "cell_type": "code",
   "execution_count": 13,
   "id": "9e7a8325",
   "metadata": {
    "ExecuteTime": {
     "end_time": "2023-10-04T18:55:30.657084Z",
     "start_time": "2023-10-04T18:55:30.580595500Z"
    }
   },
   "outputs": [
    {
     "name": "stdout",
     "output_type": "stream",
     "text": [
      "Polygon:  [(0, 8), (1, 1), (2, 1), (7, 2), (9, 8), (0, 8)]\n",
      "Point:  (8, 9)\n"
     ]
    },
    {
     "name": "stderr",
     "output_type": "stream",
     "text": [
      "C:\\Users\\bleys\\AppData\\Local\\Temp\\ipykernel_25732\\3804989734.py:12: UserWarning: No data for colormapping provided via 'c'. Parameters 'cmap' will be ignored\n",
      "  plt.scatter(point[0], point[1], cmap=\"red\")\n"
     ]
    },
    {
     "data": {
      "text/plain": "<Figure size 640x480 with 1 Axes>",
      "image/png": "[encoded data removed]"
     },
     "metadata": {},
     "output_type": "display_data"
    },
    {
     "name": "stdout",
     "output_type": "stream",
     "text": [
      "Result:  [False]\n"
     ]
    }
   ],
   "source": [
    "# CREATE POLYGON\n",
    "testing_polygon = [(0, 8), (1, 1), (2, 1), (7, 2), (9, 8), (0, 8)]\n",
    "print('Polygon: ', testing_polygon)\n",
    "\n",
    "# CREATE MASTER POINT\n",
    "point = (8, 9)\n",
    "print('Point: ', point)\n",
    "\n",
    "# VISUALIZE\n",
    "visualize_polygon(testing_polygon, [point])\n",
    "\n",
    "# RUN ALGORITHM\n",
    "print('Result: ', is_inside([point], testing_polygon))"
   ]
  },
  {
   "cell_type": "markdown",
   "id": "f3f138568a1daf28",
   "metadata": {},
   "source": [
    "### Benchmarks:\n",
    "- number of points in a polygon\n",
    "- number of random points"
   ]
  },
  {
   "cell_type": "markdown",
   "id": "9aeec1c6",
   "metadata": {},
   "source": [
    "The following cell creates polygons (Python lists of coordinates) with differing number of vertices. These will be used to compare the runtime of the algorithm with polygons with varying number of vertices."
   ]
  },
  {
   "cell_type": "code",
   "execution_count": 14,
   "id": "26480969078c14bc",
   "metadata": {
    "ExecuteTime": {
     "end_time": "2023-10-04T18:55:33.077425700Z",
     "start_time": "2023-10-04T18:55:32.971745300Z"
    }
   },
   "outputs": [
    {
     "name": "stdout",
     "output_type": "stream",
     "text": [
      "3\n",
      "7\n",
      "11\n",
      "15\n"
     ]
    }
   ],
   "source": [
    "# CREATE POLYGONS FOR BENCHMARKING\n",
    "polygon_3 = create_random_polygon(3)\n",
    "print('3')\n",
    "polygon_7 = create_random_polygon(7)\n",
    "print('7')\n",
    "polygon_11 = create_random_polygon(11)\n",
    "print('11')\n",
    "polygon_15 = create_random_polygon(15)\n",
    "print('15')\n",
    "# polygon_17 = create_random_polygon(17)\n",
    "# print('17')"
   ]
  },
  {
   "cell_type": "markdown",
   "id": "91ed29691bd3a150",
   "metadata": {},
   "source": [
    "The following cell creates random points. Additionally, it creates lists of different amounts of points. These will be used to compare the runtime of the algorithm with when checking if multiple points are in the polygons."
   ]
  },
  {
   "cell_type": "code",
   "execution_count": 15,
   "id": "f350656a638bc917",
   "metadata": {
    "ExecuteTime": {
     "end_time": "2023-10-04T18:55:36.662175900Z",
     "start_time": "2023-10-04T18:55:36.657171700Z"
    }
   },
   "outputs": [],
   "source": [
    "# CREATE RANDOM POINTS FOR BENCHMARKING\n",
    "point_1 = create_random_point()\n",
    "point_2 = create_random_point()\n",
    "point_3 = create_random_point()\n",
    "\n",
    "# CREATE LISTS OF VARYING AMOUNTS OF POINTS\n",
    "one_point = [point_1]\n",
    "two_points = [point_1, point_2]\n",
    "three_points = [point_1, point_2, point_3]"
   ]
  },
  {
   "cell_type": "code",
   "execution_count": null,
   "outputs": [],
   "source": [
    "#visualize_polygon(create_random_polygon(), one_point)"
   ],
   "metadata": {
    "collapsed": false
   },
   "id": "ee1800d5e5c3dd0d"
  },
  {
   "cell_type": "code",
   "execution_count": 65,
   "id": "71674b3e7e6bdbf",
   "metadata": {
    "ExecuteTime": {
     "end_time": "2023-10-04T15:09:22.062732300Z",
     "start_time": "2023-10-04T15:09:21.975814700Z"
    }
   },
   "outputs": [],
   "source": [
    "# visualize_polygon(polygon_3, two_points)"
   ]
  },
  {
   "cell_type": "code",
   "execution_count": 66,
   "id": "2f8bea277b5c2efa",
   "metadata": {
    "ExecuteTime": {
     "end_time": "2023-10-04T15:09:26.548801Z",
     "start_time": "2023-10-04T15:09:26.472863500Z"
    }
   },
   "outputs": [],
   "source": [
    "# visualize_polygon(polygon_3, three_points)"
   ]
  },
  {
   "cell_type": "markdown",
   "id": "d84af14793eb511c",
   "metadata": {},
   "source": [
    "**Check One Point In Polygons With Varying Numbers of Vertices:**"
   ]
  },
  {
   "cell_type": "code",
   "execution_count": 16,
   "id": "9fdd67705dcb118a",
   "metadata": {
    "ExecuteTime": {
     "end_time": "2023-10-04T18:55:38.685277900Z",
     "start_time": "2023-10-04T18:55:38.681272400Z"
    }
   },
   "outputs": [
    {
     "name": "stdout",
     "output_type": "stream",
     "text": [
      "[4.799978341907263e-06, 3.1999952625483274e-06, 3.0999945010989904e-06, 3.6999990697950125e-06]\n"
     ]
    }
   ],
   "source": [
    "# CREATE LIST TO STORE THE BENCHMARKS WHEN CHECKING ONLY ONE POINT\n",
    "check_1_point = list()\n",
    "\n",
    "# RUN AND ADD BENCHMARKS TO LIST FOR DIFFERENT POLYGONS \n",
    "check_1_point.append(benchmark(polygon_3, one_point))\n",
    "check_1_point.append(benchmark(polygon_7, one_point))\n",
    "check_1_point.append(benchmark(polygon_11, one_point))\n",
    "check_1_point.append(benchmark(polygon_15, one_point))\n",
    "#check_1_point.append(benchmark(polygon_24, one_point))\n",
    "\n",
    "# DISPLAY RESULTS\n",
    "print(check_1_point)"
   ]
  },
  {
   "cell_type": "markdown",
   "id": "50e90030377b58e0",
   "metadata": {},
   "source": [
    "**Check Two Points In Polygons With Varying Numbers of Vertices:**"
   ]
  },
  {
   "cell_type": "markdown",
   "id": "af00522aa5dc24f6",
   "metadata": {},
   "source": []
  },
  {
   "cell_type": "code",
   "execution_count": 17,
   "id": "50b959fd95e942db",
   "metadata": {
    "ExecuteTime": {
     "end_time": "2023-10-04T18:55:40.347939300Z",
     "start_time": "2023-10-04T18:55:40.343323400Z"
    }
   },
   "outputs": [
    {
     "name": "stdout",
     "output_type": "stream",
     "text": [
      "[6.799993570894003e-06, 6.700021913275123e-06, 7.700000423938036e-06, 8.800008799880743e-06]\n"
     ]
    }
   ],
   "source": [
    "# CREATE LIST TO STORE THE BENCHMARKS WHEN CHECKING TWO POINTS\n",
    "check_2_point = list()\n",
    "\n",
    "# RUN AND ADD BENCHMARKS TO LIST FOR DIFFERENT POLYGONS\n",
    "check_2_point.append(benchmark(polygon_3, two_points))\n",
    "check_2_point.append(benchmark(polygon_7, two_points))\n",
    "check_2_point.append(benchmark(polygon_11, two_points))\n",
    "check_2_point.append(benchmark(polygon_15, two_points))\n",
    "# check_2_point.append(benchmark(polygon_24, two_points))\n",
    "\n",
    "# DISPLAY RESULTS\n",
    "print(check_2_point)"
   ]
  },
  {
   "cell_type": "markdown",
   "id": "840055b1cc47fc0d",
   "metadata": {},
   "source": [
    "**Check Three Points In Polygons With Varying Numbers of Vertices:**"
   ]
  },
  {
   "cell_type": "code",
   "execution_count": 18,
   "id": "5d036eaf51dc84e3",
   "metadata": {
    "ExecuteTime": {
     "end_time": "2023-10-04T18:55:41.785065700Z",
     "start_time": "2023-10-04T18:55:41.777957500Z"
    }
   },
   "outputs": [
    {
     "name": "stdout",
     "output_type": "stream",
     "text": [
      "[7.199996616691351e-06, 6.199989002197981e-06, 6.89999433234334e-06, 8.400005754083395e-06]\n"
     ]
    }
   ],
   "source": [
    "# CREATE LIST TO STORE THE BENCHMARKS WHEN CHECKING THREE POINTS\n",
    "check_3_point = list()\n",
    "\n",
    "# RUN AND ADD BENCHMARKS TO LIST FOR DIFFERENT POLYGONS\n",
    "check_3_point.append(benchmark(polygon_3, three_points))\n",
    "check_3_point.append(benchmark(polygon_7, three_points))\n",
    "check_3_point.append(benchmark(polygon_11, three_points))\n",
    "check_3_point.append(benchmark(polygon_15, three_points))\n",
    "# check_3_point.append(benchmark(polygon_24, three_points))\n",
    "\n",
    "# DISPLAY RESULTS\n",
    "print(check_3_point)"
   ]
  },
  {
   "cell_type": "markdown",
   "id": "1008ef72d051304a",
   "metadata": {},
   "source": [
    "### Analysis:\n",
    "7. A table of your test cases, the answers you expect, and the answers returned by running your\n",
    "implementation of the algorithm.\n",
    "6. A table and graph from benchmarking your implementation on problem instances of different\n",
    "sizes. The benchmarks should support your theoretically-derived run time.\n"
   ]
  },
  {
   "cell_type": "markdown",
   "id": "fdddc7f1146ec6be",
   "metadata": {},
   "source": [
    "**Calculating Run Times:**"
   ]
  },
  {
   "cell_type": "markdown",
   "id": "dee462fb9077b7c4",
   "metadata": {},
   "source": [
    "The following cell defines a Python list for the different number of polygon vertices used during benchmarking."
   ]
  },
  {
   "cell_type": "code",
   "execution_count": 19,
   "id": "972417fddc13c1ca",
   "metadata": {
    "ExecuteTime": {
     "end_time": "2023-10-04T18:55:44.122094300Z",
     "start_time": "2023-10-04T18:55:44.113587300Z"
    }
   },
   "outputs": [],
   "source": [
    "# DEFINE THE DIFFERENT POLYGON SIZES\n",
    "#polygon_sizes = [3, 7, 11, 15, 24]\n",
    "polygon_sizes = [3, 7, 11, 15]"
   ]
  },
  {
   "cell_type": "markdown",
   "id": "10f78de77683dcea",
   "metadata": {},
   "source": [
    "The following cell calculates the slope for the run times for the different amount of master points being tested. This is done using the numpy library and linregress object from the scipy.stats library."
   ]
  },
  {
   "cell_type": "code",
   "execution_count": 20,
   "id": "63e421760523c224",
   "metadata": {
    "ExecuteTime": {
     "end_time": "2023-10-04T18:55:45.104466600Z",
     "start_time": "2023-10-04T18:55:45.084514200Z"
    }
   },
   "outputs": [
    {
     "name": "stdout",
     "output_type": "stream",
     "text": [
      "Check One Point:  -0.20064608831330372\n",
      "Check Two Points:  0.14903753052605206\n",
      "Check Three Points:  0.0692301749426535\n"
     ]
    }
   ],
   "source": [
    "# CALCULATE THE SLOPE FOR EACH CASE \n",
    "check_1_slope, b, _, _, _ = linregress(np.log(polygon_sizes), np.log(check_1_point))\n",
    "check_2_slope, b, _, _, _ = linregress(np.log(polygon_sizes), np.log(check_2_point))\n",
    "check_3_slope, b, _, _, _ = linregress(np.log(polygon_sizes), np.log(check_3_point))\n",
    "\n",
    "# PRINT RESULTS\n",
    "print(\"Check One Point: \", check_1_slope)\n",
    "print(\"Check Two Points: \", check_2_slope)\n",
    "print(\"Check Three Points: \", check_3_slope)"
   ]
  },
  {
   "cell_type": "markdown",
   "id": "2c9b31afede0cb3e",
   "metadata": {},
   "source": [
    "**Visualizations:**\n"
   ]
  },
  {
   "cell_type": "code",
   "execution_count": 22,
   "id": "e2721dbf42f1e060",
   "metadata": {
    "ExecuteTime": {
     "end_time": "2023-10-04T18:56:42.859481700Z",
     "start_time": "2023-10-04T18:56:42.655574600Z"
    }
   },
   "outputs": [
    {
     "data": {
      "text/plain": "<Figure size 640x480 with 1 Axes>",
      "image/png": "[encoded data removed]"
     },
     "metadata": {},
     "output_type": "display_data"
    }
   ],
   "source": [
    "# CREATE FIGURE AND AXIS\n",
    "fig, ax = plt.subplots()\n",
    "\n",
    "# PLOT DATA AS A LINE GRAPH\n",
    "ax.plot(polygon_sizes, check_1_point,\n",
    "        label = ('One Point (m = ' + \"{:.3f}\".format(check_1_slope) + ')'),\n",
    "        marker = 'o', linestyle = '-')\n",
    "ax.plot(polygon_sizes, check_2_point,\n",
    "        label = ('Two Points (m = ' + \"{:.3f}\".format(check_2_slope) + ')'),\n",
    "        marker = 'o', linestyle = '-')\n",
    "ax.plot(polygon_sizes, check_3_point,\n",
    "        label = ('Three Points (m = ' + \"{:.3f}\".format(check_3_slope) + ')'),\n",
    "        marker = 'o', linestyle = '-')\n",
    "\n",
    "# SET AXIS LABELS AND TITLE\n",
    "ax.set_xlabel('Polygon Vertices', fontsize = 18)\n",
    "ax.set_ylabel('Run Time (s)', fontsize = 18)\n",
    "ax.set_title('Figure 1: TODO',\n",
    "             fontsize = 20)\n",
    "\n",
    "# ADD LEGEND\n",
    "ax.legend()\n",
    "\n",
    "# SHOW\n",
    "plt.show()"
   ]
  },
  {
   "cell_type": "markdown",
   "id": "8b3dbebb67e5b594",
   "metadata": {},
   "source": [
    "**Comparison Table:**"
   ]
  },
  {
   "cell_type": "markdown",
   "id": "1484acffdefa3ba0",
   "metadata": {},
   "source": [
    "#### Table 1: The Theoretical & Estimated Run Time Functions for Is-Inside Algorithm for each case\n",
    "| Number of Points Being Checked | Slope (m) | Theoretical Run Time Functions | Estimated Run Time Functions |\n",
    "|--------------------------------|-----------|--------------------------------|------------------------------|\n",
    "| 1                              |           |                                |                              |                     \n",
    "| 2                              |           |                                |                              |                    \n",
    "| 3                              |           |                                |                              |                     "
   ]
  },
  {
   "cell_type": "markdown",
   "id": "a88c83f8f189c880",
   "metadata": {},
   "source": [
    "### Conclusion:"
   ]
  }
 ],
 "metadata": {
  "kernelspec": {
   "display_name": "Python 3 (ipykernel)",
   "language": "python",
   "name": "python3"
  },
  "language_info": {
   "codemirror_mode": {
    "name": "ipython",
    "version": 3
   },
   "file_extension": ".py",
   "mimetype": "text/x-python",
   "name": "python",
   "nbconvert_exporter": "python",
   "pygments_lexer": "ipython3",
   "version": "3.11.4"
  }
 },
 "nbformat": 4,
 "nbformat_minor": 5
}
